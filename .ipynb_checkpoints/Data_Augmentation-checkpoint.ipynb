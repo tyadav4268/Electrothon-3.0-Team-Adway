{
 "cells": [
  {
   "cell_type": "code",
   "execution_count": 5,
   "id": "valuable-distinction",
   "metadata": {},
   "outputs": [],
   "source": [
    "# We have single images in the data so initially we are using keras ImageDataGenerator to generate atleast 100 images in each category"
   ]
  },
  {
   "cell_type": "code",
   "execution_count": 6,
   "id": "controlling-supplement",
   "metadata": {},
   "outputs": [],
   "source": [
    "from keras.preprocessing.image import ImageDataGenerator, img_to_array, array_to_img, load_img"
   ]
  },
  {
   "cell_type": "code",
   "execution_count": 7,
   "id": "future-thong",
   "metadata": {},
   "outputs": [],
   "source": [
    "datagen = ImageDataGenerator(rotation_range=40,\n",
    "                            width_shift_range=0.2,\n",
    "                            height_shift_range=0.2,\n",
    "                            shear_range=0.2,\n",
    "                            zoom_range=0.2,\n",
    "                            horizontal_flip=True,\n",
    "                            fill_mode='nearest')"
   ]
  },
  {
   "cell_type": "code",
   "execution_count": 8,
   "id": "corporate-offset",
   "metadata": {},
   "outputs": [],
   "source": [
    "import os\n",
    "import shutil "
   ]
  },
  {
   "cell_type": "code",
   "execution_count": 10,
   "id": "wireless-calibration",
   "metadata": {},
   "outputs": [],
   "source": [
    "path = 'data/signs'\n",
    "labels = [str(i) for i in range(1, 11)]\n",
    "labels.extend([chr(i) for i in range(65, 91)])"
   ]
  },
  {
   "cell_type": "markdown",
   "id": "ordered-export",
   "metadata": {},
   "source": [
    "## Renaming the images"
   ]
  },
  {
   "cell_type": "code",
   "execution_count": 29,
   "id": "noted-architect",
   "metadata": {},
   "outputs": [],
   "source": [
    "os.chdir('data/signs')\n",
    "if os.path.isdir('1') is True:\n",
    "    for each in labels:        \n",
    "        for count, filename in enumerate(os.listdir(f'{each}')):\n",
    "            src = each + '/' + filename\n",
    "            dst = each + '/' + str(count) + '.jpg'\n",
    "            os.rename(f'{src}', dst)\n",
    "                                           \n",
    "os.chdir('../..')"
   ]
  },
  {
   "cell_type": "code",
   "execution_count": 26,
   "id": "beneficial-communication",
   "metadata": {},
   "outputs": [],
   "source": []
  },
  {
   "cell_type": "code",
   "execution_count": null,
   "id": "capable-metabolism",
   "metadata": {},
   "outputs": [],
   "source": []
  }
 ],
 "metadata": {
  "kernelspec": {
   "display_name": "Python 3",
   "language": "python",
   "name": "python3"
  },
  "language_info": {
   "codemirror_mode": {
    "name": "ipython",
    "version": 3
   },
   "file_extension": ".py",
   "mimetype": "text/x-python",
   "name": "python",
   "nbconvert_exporter": "python",
   "pygments_lexer": "ipython3",
   "version": "3.6.12"
  }
 },
 "nbformat": 4,
 "nbformat_minor": 5
}
