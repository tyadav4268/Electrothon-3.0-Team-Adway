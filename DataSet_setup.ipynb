{
 "cells": [
  {
   "cell_type": "code",
   "execution_count": 5,
   "id": "valuable-distinction",
   "metadata": {},
   "outputs": [],
   "source": [
    "# We have single images in the data so initially we are using keras ImageDataGenerator to generate atleast 100 images in each category"
   ]
  },
  {
   "cell_type": "code",
   "execution_count": 4,
   "id": "controlling-supplement",
   "metadata": {},
   "outputs": [],
   "source": [
    "from keras.preprocessing.image import ImageDataGenerator, img_to_array, array_to_img, load_img"
   ]
  },
  {
   "cell_type": "code",
   "execution_count": 5,
   "id": "future-thong",
   "metadata": {},
   "outputs": [],
   "source": [
    "datagen = ImageDataGenerator(rotation_range=40,\n",
    "                            width_shift_range=0.2,\n",
    "                            height_shift_range=0.2,\n",
    "                            shear_range=0.2,\n",
    "                            zoom_range=0.2,\n",
    "                            horizontal_flip=True,\n",
    "                            fill_mode='nearest')"
   ]
  },
  {
   "cell_type": "code",
   "execution_count": 87,
   "id": "corporate-offset",
   "metadata": {},
   "outputs": [],
   "source": [
    "import os\n",
    "import shutil \n",
    "import random\n",
    "import glob"
   ]
  },
  {
   "cell_type": "code",
   "execution_count": 69,
   "id": "wireless-calibration",
   "metadata": {},
   "outputs": [],
   "source": [
    "labels = [str(i) for i in range(1, 11)]\n",
    "labels.extend([chr(i) for i in range(65, 91)])"
   ]
  },
  {
   "cell_type": "markdown",
   "id": "ordered-export",
   "metadata": {},
   "source": [
    "Renaming the images"
   ]
  },
  {
   "cell_type": "code",
   "execution_count": 29,
   "id": "noted-architect",
   "metadata": {},
   "outputs": [],
   "source": [
    "os.chdir('data/signs')\n",
    "if '0.jpg' in os.listdirdir('A'):\n",
    "    for each in labels:        \n",
    "        for count, filename in enumerate(os.listdir(f'{each}')):\n",
    "            src = each + '/' + filename\n",
    "            dst = each + '/' + str(count) + '.jpg'\n",
    "            os.rename(f'{src}', dst)\n",
    "                                           \n",
    "os.chdir('../..')"
   ]
  },
  {
   "cell_type": "code",
   "execution_count": 23,
   "id": "still-river",
   "metadata": {},
   "outputs": [
    {
     "name": "stdout",
     "output_type": "stream",
     "text": [
      "True\n"
     ]
    }
   ],
   "source": [
    "os.chdir('data/signs')\n",
    "print('0.jpg' in os.listdir('A'))"
   ]
  },
  {
   "cell_type": "code",
   "execution_count": 24,
   "id": "endangered-extraction",
   "metadata": {},
   "outputs": [],
   "source": [
    "os.chdir('../..')"
   ]
  },
  {
   "cell_type": "markdown",
   "id": "infectious-grove",
   "metadata": {},
   "source": [
    " Data Augmentation"
   ]
  },
  {
   "cell_type": "code",
   "execution_count": 81,
   "id": "social-pottery",
   "metadata": {},
   "outputs": [
    {
     "data": {
      "text/plain": [
       "['.git',\n",
       " '.ipynb_checkpoints',\n",
       " 'data',\n",
       " 'DataSet_setup.ipynb',\n",
       " 'ElectrothonPitch-Team Adway.pptx',\n",
       " 'README.md']"
      ]
     },
     "execution_count": 81,
     "metadata": {},
     "output_type": "execute_result"
    }
   ],
   "source": [
    "os.listdir()"
   ]
  },
  {
   "cell_type": "code",
   "execution_count": 43,
   "id": "capable-metabolism",
   "metadata": {},
   "outputs": [],
   "source": [
    "os.chdir('data/signs')\n",
    "for each in labels:\n",
    "    \n",
    "    os.chdir(f'{each}')\n",
    "   \n",
    "    images = os.listdir()\n",
    "    os.mkdir('preview')\n",
    "    for image in images:\n",
    "        if image != 'preview':\n",
    "            image = load_img(image)\n",
    "            x = img_to_array(image)\n",
    "            x = x.reshape((1, ) + x.shape)\n",
    "\n",
    "            i = 0\n",
    "            for batch in datagen.flow(x, batch_size=1, save_to_dir='preview', save_prefix=f'{each}', save_format='jpeg'):\n",
    "                i += 1\n",
    "                if i > 20:\n",
    "                    break\n",
    "    \n",
    "    os.chdir('..')\n",
    "os.chdir('../..')"
   ]
  },
  {
   "cell_type": "markdown",
   "id": "filled-tunisia",
   "metadata": {},
   "source": [
    "Arranging Data into Training set, Validation set and Testing set"
   ]
  },
  {
   "cell_type": "code",
   "execution_count": 90,
   "id": "false-grocery",
   "metadata": {},
   "outputs": [],
   "source": [
    "os.chdir('data/signs')\n",
    "if os.path.isdir('train/1') is False:\n",
    "    os.mkdir('train')\n",
    "    os.mkdir('valid')\n",
    "    os.mkdir('test')\n",
    "    \n",
    "    for i in labels:\n",
    "        shutil.move(f'{i}', 'train')\n",
    "        os.mkdir(f'valid/{i}')\n",
    "        os.mkdir(f'test/{i}')\n",
    "        \n",
    "        valid_samples = random.sample(os.listdir(f'train/{i}'), 30)\n",
    "        for j in valid_samples:\n",
    "            shutil.move(f'train/{i}/{j}', f'valid/{i}')\n",
    "            \n",
    "        test_samples = random.sample(os.listdir(f'train/{i}'), 5)\n",
    "        for k in test_samples:\n",
    "            shutil.move(f'train/{i}/{k}', f'test/{i}')"
   ]
  },
  {
   "cell_type": "code",
   "execution_count": 91,
   "id": "documentary-dragon",
   "metadata": {},
   "outputs": [],
   "source": [
    "os.chdir('../..')"
   ]
  },
  {
   "cell_type": "code",
   "execution_count": 95,
   "id": "tired-breed",
   "metadata": {},
   "outputs": [
    {
     "data": {
      "text/plain": [
       "['.git',\n",
       " '.ipynb_checkpoints',\n",
       " 'data',\n",
       " 'DataSet_setup.ipynb',\n",
       " 'ElectrothonPitch-Team Adway.pptx',\n",
       " 'README.md']"
      ]
     },
     "execution_count": 95,
     "metadata": {},
     "output_type": "execute_result"
    }
   ],
   "source": [
    "os.listdir()"
   ]
  },
  {
   "cell_type": "code",
   "execution_count": null,
   "id": "boxed-saturn",
   "metadata": {},
   "outputs": [],
   "source": []
  }
 ],
 "metadata": {
  "kernelspec": {
   "display_name": "Python 3",
   "language": "python",
   "name": "python3"
  },
  "language_info": {
   "codemirror_mode": {
    "name": "ipython",
    "version": 3
   },
   "file_extension": ".py",
   "mimetype": "text/x-python",
   "name": "python",
   "nbconvert_exporter": "python",
   "pygments_lexer": "ipython3",
   "version": "3.6.12"
  }
 },
 "nbformat": 4,
 "nbformat_minor": 5
}
