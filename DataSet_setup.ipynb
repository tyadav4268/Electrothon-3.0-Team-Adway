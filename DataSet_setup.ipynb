{
 "cells": [
  {
   "cell_type": "code",
   "execution_count": 5,
   "id": "valuable-distinction",
   "metadata": {},
   "outputs": [],
   "source": [
    "# We have single images in the data so initially we are using keras ImageDataGenerator to generate atleast 100 images in each category"
   ]
  },
  {
   "cell_type": "code",
   "execution_count": 4,
   "id": "controlling-supplement",
   "metadata": {},
   "outputs": [],
   "source": [
    "from keras.preprocessing.image import ImageDataGenerator, img_to_array, array_to_img, load_img"
   ]
  },
  {
   "cell_type": "code",
   "execution_count": 5,
   "id": "future-thong",
   "metadata": {},
   "outputs": [],
   "source": [
    "datagen = ImageDataGenerator(rotation_range=40,\n",
    "                            width_shift_range=0.2,\n",
    "                            height_shift_range=0.2,\n",
    "                            shear_range=0.2,\n",
    "                            zoom_range=0.2,\n",
    "                            horizontal_flip=True,\n",
    "                            fill_mode='nearest')"
   ]
  },
  {
   "cell_type": "code",
   "execution_count": 6,
   "id": "corporate-offset",
   "metadata": {},
   "outputs": [],
   "source": [
    "import os\n",
    "import shutil "
   ]
  },
  {
   "cell_type": "code",
   "execution_count": 7,
   "id": "wireless-calibration",
   "metadata": {},
   "outputs": [],
   "source": [
    "labels = [str(i) for i in range(1, 11)]\n",
    "labels.extend([chr(i) for i in range(65, 91)])"
   ]
  },
  {
   "cell_type": "markdown",
   "id": "ordered-export",
   "metadata": {},
   "source": [
    "Renaming the images"
   ]
  },
  {
   "cell_type": "code",
   "execution_count": 29,
   "id": "noted-architect",
   "metadata": {},
   "outputs": [],
   "source": [
    "os.chdir('data/signs')\n",
    "if '0.jpg' in os.listdirdir('A'):\n",
    "    for each in labels:        \n",
    "        for count, filename in enumerate(os.listdir(f'{each}')):\n",
    "            src = each + '/' + filename\n",
    "            dst = each + '/' + str(count) + '.jpg'\n",
    "            os.rename(f'{src}', dst)\n",
    "                                           \n",
    "os.chdir('../..')"
   ]
  },
  {
   "cell_type": "code",
   "execution_count": 23,
   "id": "tired-schedule",
   "metadata": {},
   "outputs": [
    {
     "name": "stdout",
     "output_type": "stream",
     "text": [
      "True\n"
     ]
    }
   ],
   "source": [
    "os.chdir('data/signs')\n",
    "print('0.jpg' in os.listdir('A'))"
   ]
  },
  {
   "cell_type": "code",
   "execution_count": 24,
   "id": "remarkable-scanning",
   "metadata": {},
   "outputs": [],
   "source": [
    "os.chdir('../..')"
   ]
  },
  {
   "cell_type": "markdown",
   "id": "increasing-shopper",
   "metadata": {},
   "source": [
    " Data Augmentation"
   ]
  },
  {
   "cell_type": "code",
   "execution_count": 25,
   "id": "improving-manner",
   "metadata": {},
   "outputs": [
    {
     "data": {
      "text/plain": [
       "['.git',\n",
       " '.ipynb_checkpoints',\n",
       " 'data',\n",
       " 'DataSet_setup.ipynb',\n",
       " 'ElectrothonPitch-Team Adway.pptx',\n",
       " 'README.md']"
      ]
     },
     "execution_count": 25,
     "metadata": {},
     "output_type": "execute_result"
    }
   ],
   "source": [
    "os.listdir()"
   ]
  },
  {
   "cell_type": "code",
   "execution_count": null,
   "id": "capable-metabolism",
   "metadata": {},
   "outputs": [],
   "source": [
    "os.chdir('data/signs')\n",
    "for each in labels:\n",
    "    \n",
    "    os.chdir(f'{each}')\n",
    "   \n",
    "    image = load_img(os.listdir()[0])\n",
    "    os.mkdir('preview')\n",
    "    x = img_to_array(image)\n",
    "    x = x.reshape((1, ) + x.shape)\n",
    "    \n",
    "    i = 0\n",
    "    for batch in datagen.flow(x, batch_size=1, save_to_dir='preview', save_prefix=f'each', save_format='jpeg'):\n",
    "        i += 1\n",
    "        if i > 20:\n",
    "            break\n",
    "        \n",
    "                              \n",
    "    \n",
    "    \n",
    "    \n",
    "    os.chdir('..')\n",
    "os.chdir('../..')"
   ]
  },
  {
   "cell_type": "code",
   "execution_count": 26,
   "id": "naval-drilling",
   "metadata": {},
   "outputs": [
    {
     "data": {
      "text/plain": [
       "['.git',\n",
       " '.ipynb_checkpoints',\n",
       " 'data',\n",
       " 'DataSet_setup.ipynb',\n",
       " 'ElectrothonPitch-Team Adway.pptx',\n",
       " 'README.md']"
      ]
     },
     "execution_count": 26,
     "metadata": {},
     "output_type": "execute_result"
    }
   ],
   "source": [
    "os.listdir()"
   ]
  },
  {
   "cell_type": "code",
   "execution_count": null,
   "id": "convenient-sport",
   "metadata": {},
   "outputs": [],
   "source": [
    "os.chdir(f'data/signs/{each}/preview')\n"
   ]
  }
 ],
 "metadata": {
  "kernelspec": {
   "display_name": "Python 3",
   "language": "python",
   "name": "python3"
  },
  "language_info": {
   "codemirror_mode": {
    "name": "ipython",
    "version": 3
   },
   "file_extension": ".py",
   "mimetype": "text/x-python",
   "name": "python",
   "nbconvert_exporter": "python",
   "pygments_lexer": "ipython3",
   "version": "3.6.12"
  }
 },
 "nbformat": 4,
 "nbformat_minor": 5
}
